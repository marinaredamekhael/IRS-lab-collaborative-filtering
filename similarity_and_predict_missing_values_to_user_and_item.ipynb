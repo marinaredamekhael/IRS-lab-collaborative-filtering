{
  "nbformat": 4,
  "nbformat_minor": 0,
  "metadata": {
    "colab": {
      "provenance": []
    },
    "kernelspec": {
      "name": "python3",
      "display_name": "Python 3"
    },
    "language_info": {
      "name": "python"
    }
  },
  "cells": [
    {
      "cell_type": "markdown",
      "source": [
        "#user based"
      ],
      "metadata": {
        "id": "vEFtCq3QME8z"
      }
    },
    {
      "cell_type": "markdown",
      "source": [
        "##compute similarity and predict missing values using Cosine Similarity and Pearson Correlation"
      ],
      "metadata": {
        "id": "QZl5668vL3-A"
      }
    },
    {
      "cell_type": "code",
      "execution_count": 2,
      "metadata": {
        "colab": {
          "base_uri": "https://localhost:8080/"
        },
        "id": "zO0ai5tWR_Cx",
        "outputId": "5d9c3bae-0c34-4144-d2a9-2d902dd17cd7"
      },
      "outputs": [
        {
          "output_type": "stream",
          "name": "stdout",
          "text": [
            "User-Item Matrix:\n",
            " Item   Item1  Item2  Item3  Item4\n",
            "User                             \n",
            "User1    5.0    3.0    NaN    4.0\n",
            "User2    NaN    4.0    5.0    NaN\n",
            "User3    4.0    NaN    3.0    5.0\n",
            "User4    NaN    3.0    NaN    4.0\n",
            "\n",
            "Cosine Similarity Matrix:\n",
            " User     User1 User2    User3 User4\n",
            "User                               \n",
            "User1      1.0   1.0  0.97561   1.0\n",
            "User2      1.0   1.0      1.0   1.0\n",
            "User3  0.97561   1.0      1.0   1.0\n",
            "User4      1.0   1.0      1.0   1.0\n",
            "\n",
            "Pearson Correlation Matrix:\n",
            " User  User1 User2 User3 User4\n",
            "User                         \n",
            "User1   1.0     0  -1.0   1.0\n",
            "User2     0   1.0     0     0\n",
            "User3  -1.0     0   1.0     0\n",
            "User4   1.0     0     0   1.0\n",
            "\n",
            "Cosine Similarity-based Prediction for User2 and Item1: 4.5\n",
            "Pearson Correlation-based Prediction for User2 and Item1: 4.5\n"
          ]
        }
      ],
      "source": [
        "import numpy as np\n",
        "import pandas as pd\n",
        "\n",
        "# Sample DataFrame for demonstration\n",
        "data = {\n",
        "    'User': ['User1', 'User1', 'User1', 'User2', 'User2', 'User3', 'User3', 'User3', 'User4', 'User4'],\n",
        "    'Item': ['Item1', 'Item2', 'Item4', 'Item2', 'Item3', 'Item1', 'Item3', 'Item4', 'Item2', 'Item4'],\n",
        "    'Rating': [5, 3, 4, 4, 5, 4, 3, 5, 3, 4]\n",
        "}\n",
        "\n",
        "# Create a DataFrame\n",
        "df = pd.DataFrame(data)\n",
        "\n",
        "# Create the user-item matrix\n",
        "user_item_matrix = df.pivot_table(index='User', columns='Item', values='Rating')\n",
        "print(\"User-Item Matrix:\\n\", user_item_matrix)\n",
        "\n",
        "# Function to calculate Cosine Similarity manually\n",
        "def cosine_similarity(user1, user2, user_item_matrix):\n",
        "    # Get ratings for both users (only for items both have rated)\n",
        "    common_items = user_item_matrix.columns[user_item_matrix.loc[user1].notna() & user_item_matrix.loc[user2].notna()]\n",
        "\n",
        "    if len(common_items) == 0:\n",
        "        return 0  # No common items, no similarity\n",
        "\n",
        "    ratings_user1 = user_item_matrix.loc[user1, common_items]\n",
        "    ratings_user2 = user_item_matrix.loc[user2, common_items]\n",
        "\n",
        "    # Compute dot product and magnitudes\n",
        "    dot_product = np.dot(ratings_user1, ratings_user2)\n",
        "    norm_user1 = np.linalg.norm(ratings_user1)\n",
        "    norm_user2 = np.linalg.norm(ratings_user2)\n",
        "\n",
        "    return dot_product / (norm_user1 * norm_user2)\n",
        "\n",
        "# Function to calculate Pearson Correlation manually\n",
        "def pearson_correlation(user1, user2, user_item_matrix):\n",
        "    # Get ratings for both users (only for items both have rated)\n",
        "    common_items = user_item_matrix.columns[user_item_matrix.loc[user1].notna() & user_item_matrix.loc[user2].notna()]\n",
        "\n",
        "    if len(common_items) == 0:\n",
        "        return 0  # No common items, no correlation\n",
        "\n",
        "    ratings_user1 = user_item_matrix.loc[user1, common_items]\n",
        "    ratings_user2 = user_item_matrix.loc[user2, common_items]\n",
        "\n",
        "    mean_user1 = ratings_user1.mean()\n",
        "    mean_user2 = ratings_user2.mean()\n",
        "\n",
        "    # Compute the numerator and the denominator\n",
        "    numerator = np.sum((ratings_user1 - mean_user1) * (ratings_user2 - mean_user2))\n",
        "    denominator = np.sqrt(np.sum((ratings_user1 - mean_user1) ** 2) * np.sum((ratings_user2 - mean_user2) ** 2))\n",
        "\n",
        "    if denominator == 0:\n",
        "        return 0  # Avoid division by zero\n",
        "\n",
        "    return numerator / denominator\n",
        "\n",
        "# Function to predict missing rating using user-based CF (Cosine or Pearson)\n",
        "def predict_rating(user_item_matrix, user_similarity, user, item, method=\"cosine\"):\n",
        "    if item not in user_item_matrix.columns or user not in user_item_matrix.index:\n",
        "        return None  # Return None if the user or item is not in the matrix\n",
        "\n",
        "    # Get the ratings of the item for all users\n",
        "    ratings = user_item_matrix[item]\n",
        "\n",
        "    # Get the similarity scores for the target user\n",
        "    if method == \"cosine\":\n",
        "        similarity_scores = user_similarity.loc[user]\n",
        "    elif method == \"pearson\":\n",
        "        similarity_scores = user_similarity.loc[user]\n",
        "\n",
        "    # Exclude the target user from the similarity calculations\n",
        "    valid_ratings = ratings[ratings.notna()]\n",
        "    valid_similarity = similarity_scores[valid_ratings.index]\n",
        "\n",
        "    # Predict using weighted average of ratings\n",
        "    if valid_similarity.sum() > 0:\n",
        "        prediction = np.dot(valid_similarity, valid_ratings) / valid_similarity.sum()\n",
        "    else:\n",
        "        prediction = valid_ratings.mean()  # Use mean rating if no similar users\n",
        "\n",
        "    return prediction\n",
        "\n",
        "# Compute the similarity matrix for all users using Cosine Similarity\n",
        "def compute_user_similarity(user_item_matrix, method=\"cosine\"):\n",
        "    users = user_item_matrix.index\n",
        "    similarity_matrix = pd.DataFrame(index=users, columns=users)\n",
        "\n",
        "    for user1 in users:\n",
        "        for user2 in users:\n",
        "            if method == \"cosine\":\n",
        "                similarity_matrix.loc[user1, user2] = cosine_similarity(user1, user2, user_item_matrix)\n",
        "            elif method == \"pearson\":\n",
        "                similarity_matrix.loc[user1, user2] = pearson_correlation(user1, user2, user_item_matrix)\n",
        "\n",
        "    return similarity_matrix\n",
        "\n",
        "# Example of Cosine Similarity-based User Similarity Matrix\n",
        "cosine_similarity_matrix = compute_user_similarity(user_item_matrix, method=\"cosine\")\n",
        "print(\"\\nCosine Similarity Matrix:\\n\", cosine_similarity_matrix)\n",
        "\n",
        "# Example of Pearson Correlation-based User Similarity Matrix\n",
        "pearson_similarity_matrix = compute_user_similarity(user_item_matrix, method=\"pearson\")\n",
        "print(\"\\nPearson Correlation Matrix:\\n\", pearson_similarity_matrix)\n",
        "\n",
        "# Example Predictions using Cosine Similarity\n",
        "user = 'User2'\n",
        "item = 'Item1'\n",
        "cosine_prediction = predict_rating(user_item_matrix, cosine_similarity_matrix, user, item, method=\"cosine\")\n",
        "print(f\"\\nCosine Similarity-based Prediction for {user} and {item}: {cosine_prediction}\")\n",
        "\n",
        "# Example Predictions using Pearson Correlation\n",
        "pearson_prediction = predict_rating(user_item_matrix, pearson_similarity_matrix, user, item, method=\"pearson\")\n",
        "print(f\"Pearson Correlation-based Prediction for {user} and {item}: {pearson_prediction}\")"
      ]
    },
    {
      "cell_type": "markdown",
      "source": [
        "# item based"
      ],
      "metadata": {
        "id": "UkB_T5_3MT4U"
      }
    },
    {
      "cell_type": "markdown",
      "source": [
        "#compute similarity and predict missing values using Adjusted Cosine Similarity:"
      ],
      "metadata": {
        "id": "9qffWk5xL0M0"
      }
    },
    {
      "cell_type": "code",
      "source": [
        "import numpy as np\n",
        "import pandas as pd\n",
        "\n",
        "# Sample DataFrame for demonstration\n",
        "data = {\n",
        "    'User': ['User1', 'User1', 'User1', 'User2', 'User2', 'User3', 'User3', 'User3', 'User4', 'User4'],\n",
        "    'Item': ['Item1', 'Item2', 'Item4', 'Item2', 'Item3', 'Item1', 'Item3', 'Item4', 'Item2', 'Item4'],\n",
        "    'Rating': [5, 3, 4, 4, 5, 4, 3, 5, 3, 4]\n",
        "}\n",
        "\n",
        "# Create a DataFrame\n",
        "df = pd.DataFrame(data)\n",
        "\n",
        "# Create the user-item matrix\n",
        "user_item_matrix = df.pivot_table(index='User', columns='Item', values='Rating')\n",
        "print(\"User-Item Matrix:\\n\", user_item_matrix)\n",
        "\n",
        "# Function to calculate Adjusted Cosine Similarity manually\n",
        "def adjusted_cosine_similarity(item1, item2, user_item_matrix):\n",
        "    # Get ratings for both items (only for users who have rated both items)\n",
        "    common_users = user_item_matrix.index[user_item_matrix[item1].notna() & user_item_matrix[item2].notna()]\n",
        "\n",
        "    if len(common_users) == 0:\n",
        "        return 0  # No common users, no similarity\n",
        "\n",
        "    ratings_item1 = user_item_matrix.loc[common_users, item1]\n",
        "    ratings_item2 = user_item_matrix.loc[common_users, item2]\n",
        "\n",
        "    # Compute average rating for each user\n",
        "    user_means = user_item_matrix.loc[common_users].mean(axis=1)\n",
        "\n",
        "    # Adjust ratings by subtracting the user's average rating\n",
        "    adjusted_ratings_item1 = ratings_item1 - user_means\n",
        "    adjusted_ratings_item2 = ratings_item2 - user_means\n",
        "\n",
        "    # Compute dot product and magnitudes\n",
        "    dot_product = np.dot(adjusted_ratings_item1, adjusted_ratings_item2)\n",
        "    norm_item1 = np.linalg.norm(adjusted_ratings_item1)\n",
        "    norm_item2 = np.linalg.norm(adjusted_ratings_item2)\n",
        "\n",
        "    return dot_product / (norm_item1 * norm_item2)\n",
        "\n",
        "# Function to compute item similarity matrix using Adjusted Cosine Similarity\n",
        "def compute_item_similarity(user_item_matrix):\n",
        "    items = user_item_matrix.columns\n",
        "    similarity_matrix = pd.DataFrame(index=items, columns=items)\n",
        "\n",
        "    for item1 in items:\n",
        "        for item2 in items:\n",
        "            similarity_matrix.loc[item1, item2] = adjusted_cosine_similarity(item1, item2, user_item_matrix)\n",
        "\n",
        "    return similarity_matrix\n",
        "\n",
        "# Function to predict rating using item-based CF with Adjusted Cosine Similarity\n",
        "def predict_rating(user_item_matrix, item_similarity_matrix, user, item):\n",
        "    if item not in user_item_matrix.columns or user not in user_item_matrix.index:\n",
        "        return None  # Return None if the user or item is not in the matrix\n",
        "\n",
        "    # Get ratings of the user for all items\n",
        "    ratings = user_item_matrix.loc[user]\n",
        "\n",
        "    # Get similarity scores for the target item\n",
        "    similarity_scores = item_similarity_matrix[item]\n",
        "\n",
        "    # Find items rated by the user\n",
        "    rated_items = ratings[ratings.notna()]\n",
        "\n",
        "    # Compute weighted average of ratings using similarity scores\n",
        "    numerator = np.sum(similarity_scores[rated_items.index] * (rated_items - user_item_matrix.loc[user].mean()))\n",
        "    denominator = np.sum(np.abs(similarity_scores[rated_items.index]))\n",
        "\n",
        "    # Predict using weighted average\n",
        "    if denominator != 0:\n",
        "        prediction = user_item_matrix.loc[user].mean() + (numerator / denominator)\n",
        "    else:\n",
        "        prediction = user_item_matrix.loc[user].mean()  # If no similar items, use the mean rating\n",
        "\n",
        "    return prediction\n",
        "\n",
        "# Compute the item-item similarity matrix using Adjusted Cosine Similarity\n",
        "item_similarity_matrix = compute_item_similarity(user_item_matrix)\n",
        "print(\"\\nItem Similarity Matrix (Adjusted Cosine Similarity):\\n\", item_similarity_matrix)\n",
        "\n",
        "# Example Predictions using Adjusted Cosine Similarity\n",
        "user = 'User2'\n",
        "item = 'Item1'\n",
        "prediction = predict_rating(user_item_matrix, item_similarity_matrix, user, item)\n",
        "print(f\"\\nPredicted Rating for {user} and {item}: {prediction}\")"
      ],
      "metadata": {
        "colab": {
          "base_uri": "https://localhost:8080/"
        },
        "id": "thZm43gRKmJc",
        "outputId": "9f7cd9d6-3851-4870-dd96-c3f600b62ec4"
      },
      "execution_count": 3,
      "outputs": [
        {
          "output_type": "stream",
          "name": "stdout",
          "text": [
            "User-Item Matrix:\n",
            " Item   Item1  Item2  Item3  Item4\n",
            "User                             \n",
            "User1    5.0    3.0    NaN    4.0\n",
            "User2    NaN    4.0    5.0    NaN\n",
            "User3    4.0    NaN    3.0    5.0\n",
            "User4    NaN    3.0    NaN    4.0\n",
            "\n",
            "Item Similarity Matrix (Adjusted Cosine Similarity):\n",
            " Item  Item1     Item2 Item3     Item4\n",
            "Item                                 \n",
            "Item1   1.0      -1.0   NaN       0.0\n",
            "Item2  -1.0       1.0  -1.0 -0.447214\n",
            "Item3   NaN      -1.0   1.0      -1.0\n",
            "Item4   0.0 -0.447214  -1.0       1.0\n",
            "\n",
            "Predicted Rating for User2 and Item1: 5.0\n"
          ]
        },
        {
          "output_type": "stream",
          "name": "stderr",
          "text": [
            "<ipython-input-3-86b31e9bc09d>:41: RuntimeWarning: invalid value encountered in scalar divide\n",
            "  return dot_product / (norm_item1 * norm_item2)\n",
            "<ipython-input-3-86b31e9bc09d>:41: RuntimeWarning: invalid value encountered in scalar divide\n",
            "  return dot_product / (norm_item1 * norm_item2)\n"
          ]
        }
      ]
    },
    {
      "cell_type": "code",
      "source": [],
      "metadata": {
        "id": "C7zKok70MeCz"
      },
      "execution_count": null,
      "outputs": []
    }
  ]
}